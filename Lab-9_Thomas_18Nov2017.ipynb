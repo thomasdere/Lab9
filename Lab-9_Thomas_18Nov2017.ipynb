{
 "cells": [
  {
   "cell_type": "markdown",
   "metadata": {
    "deletable": true,
    "editable": true
   },
   "source": [
    "# Welcome to Lab Session 9 - Derek Thomas - 18Nov2017"
   ]
  },
  {
   "cell_type": "markdown",
   "metadata": {
    "collapsed": true,
    "deletable": true,
    "editable": true
   },
   "source": [
    "## Argument Framework"
   ]
  },
  {
   "cell_type": "markdown",
   "metadata": {},
   "source": [
    "Claim\n",
    "Santa Clara University's MSIS graduates are the best resources for Recruiters of the Top Silicon Valley IT Companies. \n",
    "\n",
    "Warrants\n",
    "- Since Santa Clara University Undergraduate enrollees have the highest average SAT scores, the graduates are highly skilled and suitable for employment in the fileds of their specialty.\n",
    "- Since Santa Clara University University has the only MSIS program in Silicon Valley, their graduates are better suited for employment in the top occupations.\n",
    "- Since the MSIS curriculum offers courses that directly support 7 of the top 10 of 50 best job occupations for 2017, as ranked by Money Magazine, their graduates are best suited for employment\n",
    "- Santa Clara University ranks in the top ten percentile of California colleges for applicants with high average SAT percentage (SAT_AVG)\n",
    "    - It is inferred that if the University has a high number of applicants with higher than average SAT scores, the classroom discussions will be at a level more conducive to learning, and increae the overall effectiveness of the degree program.\n",
    "----------------------------------\n",
    "- Sanata Clara University ranks in the top ten percentile of California colleges in the percentage of degrees awarded in Computer and Information Systems (PCIP11)\n",
    "    - The assumption is that if the University has awarded a higher number of degrees in Computers and Information Systems over similar programs, the University has prioritized this field of study, invested sufficient resources in this area to include quality faculty, and will produce a better MSIS program \n",
    "----------------------------------\n",
    "- Santa Clara University ranks in the top ten percentile of California colleges for its degree completion rate for first-time, full-time students (C150_4)\n",
    "    - This will support and contribute to recruiting effectiveness by assuring prospective students that the University has among the highest completion rate of students who start the program, inferring that the program is of high quality to retain enrolled students.\n",
    "----------------------------------\n",
    "- In relation to student body size, Santa Clara University rates in the top ten percentile of its number of graduate students (GRADS)\n",
    "    - This is supported by the inference that high numbers of graduate students translate into successful reputable degree programs\n",
    "\n",
    "Evidence\n",
    "- D1_50BestJobs2017.csv - Dataset contains the 50 top job occupations for 2017\n",
    "    - This Dataset is not used in the current iteration, but reserved for later use\n",
    "---------------------------------\n",
    "- D2_SCUMSISTracks.csv - Dataset contains the Santa Clara University MSIS program main concentration Tracks\n",
    "    - This Dataset is not used in the current iteration, but reserved for later use\n",
    "---------------------------------\n",
    "- D3_SCUMSISCourses.csv - Dataset contains the Santa Clara University MSIS curriculum offered as of Oct 2017\n",
    "    - This Dataset is not used in the current iteration, but reserved for later use\n",
    "---------------------------------\n",
    "- D4_CollegeScorecard201516.csv - Dataset contains a comprehensive listing of all Colleges/Universities and various statistics\n",
    "    - The Dataset is filtered to include only the California Colleges/Universities and will connect to the \"50-best Colleges\" Dataset (D5) based on College/University Name\n",
    "---------------------------------\n",
    "- D5_50BestColleges2017.csv - Dataset contains the top 50 U.S. Colleges/Universities for Business Majors\n",
    "    - The Dataset has been filtered to only include California Colleges/Universites\n",
    "\n",
    "Audience\n",
    "- Job Recruiters\n",
    "\n",
    "Audience Needs\n",
    "- Quality Job applicants\n",
    "- Meeting of placement Quotas\n",
    "Audience Wants\n",
    "- Screened Applicant Pool with respect to quality\n",
    "Audience Fears\n",
    "- Placememt pf am unqualified applicant\n",
    "- Failure to meet placement Quotas\n",
    "- Planning Data\n",
    "\n",
    "Metrics\n",
    "- Ranking of Santa Clara Universitys average SAT scores to that of other Universities offfering MSIS curriculum\n",
    "- Curriculum coverage of meets top 10 of 2017 Best Job Occupations\n",
    "- 1 of 1 Universities related in Silicon Valley that offer an MSIS program\n",
    "\n",
    "Warrants\n",
    " - The SAT averages, percentage of degrees awarded in Computer & Information Systems, and Completion rate for first-time, full-time students are based on Undergraduate statistics and may not ncecessarily translate to the College/University graduate programs"
   ]
  },
  {
   "cell_type": "markdown",
   "metadata": {
    "deletable": true,
    "editable": true
   },
   "source": [
    "## Define & setup the environment"
   ]
  },
  {
   "cell_type": "code",
   "execution_count": 16,
   "metadata": {
    "ExecuteTime": {
     "end_time": "2017-10-03T03:44:12.729222Z",
     "start_time": "2017-10-03T03:44:12.720705Z"
    },
    "collapsed": true,
    "deletable": true,
    "editable": true
   },
   "outputs": [],
   "source": [
    "import pandas as pd\n",
    "import numpy as np\n",
    "#import pandas_datareader as pdr\n",
    "#from pandas_datareader import data, wb\n",
    "#import urllib3\n",
    "#http = urllib3.PoolManager()\n",
    "import string\n",
    "import re\n",
    "import json\n",
    "#from collections import OrderedDict\n",
    "import warnings\n",
    "warnings.filterwarnings('ignore')"
   ]
  },
  {
   "cell_type": "markdown",
   "metadata": {
    "ExecuteTime": {
     "end_time": "2017-09-23T13:35:42.618725Z",
     "start_time": "2017-09-23T13:35:42.615218Z"
    },
    "deletable": true,
    "editable": true
   },
   "source": [
    "## Import various Datasets to be used in SCU MSIS Dashboard"
   ]
  },
  {
   "cell_type": "markdown",
   "metadata": {
    "deletable": true,
    "editable": true
   },
   "source": [
    "### Dataset-1 is a list of 50 Best for Jobs in America for 2017 compiled by Glassdoor\n",
    "Reference: https://www.glassdoor.com/List/Best-Jobs-in-America-LST_KQ0,20.htm"
   ]
  },
  {
   "cell_type": "markdown",
   "metadata": {
    "deletable": true,
    "editable": true
   },
   "source": [
    "Raw Dataset-1 prior to scraping:\n",
    "\n",
    "![50-Best-Jobs-2017_Raw.png](attachment:50-Best-Jobs-2017_Raw.png)"
   ]
  },
  {
   "cell_type": "markdown",
   "metadata": {
    "deletable": true,
    "editable": true
   },
   "source": [
    "Dataset-1 utilizing Excel formulas as a means to scrape raw data and capure Dataset-1:\n",
    "\n",
    "![50-Best-Jobs-2017_Scrape-1.png](attachment:50-Best-Jobs-2017_Scrape-1.png)\n",
    "    \n",
    "    "
   ]
  },
  {
   "cell_type": "markdown",
   "metadata": {
    "deletable": true,
    "editable": true
   },
   "source": [
    "Dataset-1 Final result after Excel Scraping\n",
    "\n",
    "![50-Best-Jobs-2017_Final-1.png](attachment:50-Best-Jobs-2017_Final-1.png)"
   ]
  },
  {
   "cell_type": "markdown",
   "metadata": {
    "deletable": true,
    "editable": true
   },
   "source": [
    "#### Dataset-1 - Read in \"50 Best Jobs in 2017\""
   ]
  },
  {
   "cell_type": "code",
   "execution_count": 17,
   "metadata": {
    "collapsed": false,
    "deletable": true,
    "editable": true
   },
   "outputs": [
    {
     "data": {
      "text/html": [
       "<div>\n",
       "<style>\n",
       "    .dataframe thead tr:only-child th {\n",
       "        text-align: right;\n",
       "    }\n",
       "\n",
       "    .dataframe thead th {\n",
       "        text-align: left;\n",
       "    }\n",
       "\n",
       "    .dataframe tbody tr th {\n",
       "        vertical-align: top;\n",
       "    }\n",
       "</style>\n",
       "<table border=\"1\" class=\"dataframe\">\n",
       "  <thead>\n",
       "    <tr style=\"text-align: right;\">\n",
       "      <th></th>\n",
       "      <th>Ranking</th>\n",
       "      <th>Occupation</th>\n",
       "      <th>Job Score</th>\n",
       "      <th>Job Satisfaction</th>\n",
       "      <th>Median Base Salary</th>\n",
       "      <th>Job Openings</th>\n",
       "    </tr>\n",
       "  </thead>\n",
       "  <tbody>\n",
       "    <tr>\n",
       "      <th>0</th>\n",
       "      <td>1</td>\n",
       "      <td>Data Scientist</td>\n",
       "      <td>4.8</td>\n",
       "      <td>4.4</td>\n",
       "      <td>110000</td>\n",
       "      <td>4184</td>\n",
       "    </tr>\n",
       "    <tr>\n",
       "      <th>1</th>\n",
       "      <td>2</td>\n",
       "      <td>DevOps Engineer</td>\n",
       "      <td>4.7</td>\n",
       "      <td>4.2</td>\n",
       "      <td>110000</td>\n",
       "      <td>2725</td>\n",
       "    </tr>\n",
       "    <tr>\n",
       "      <th>2</th>\n",
       "      <td>3</td>\n",
       "      <td>Data Engineer</td>\n",
       "      <td>4.7</td>\n",
       "      <td>4.3</td>\n",
       "      <td>106000</td>\n",
       "      <td>2599</td>\n",
       "    </tr>\n",
       "    <tr>\n",
       "      <th>3</th>\n",
       "      <td>4</td>\n",
       "      <td>Tax Manager</td>\n",
       "      <td>4.7</td>\n",
       "      <td>4.0</td>\n",
       "      <td>110000</td>\n",
       "      <td>3317</td>\n",
       "    </tr>\n",
       "  </tbody>\n",
       "</table>\n",
       "</div>"
      ],
      "text/plain": [
       "   Ranking       Occupation  Job Score  Job Satisfaction  Median Base Salary  \\\n",
       "0        1   Data Scientist        4.8               4.4              110000   \n",
       "1        2  DevOps Engineer        4.7               4.2              110000   \n",
       "2        3    Data Engineer        4.7               4.3              106000   \n",
       "3        4      Tax Manager        4.7               4.0              110000   \n",
       "\n",
       "   Job Openings  \n",
       "0          4184  \n",
       "1          2725  \n",
       "2          2599  \n",
       "3          3317  "
      ]
     },
     "execution_count": 17,
     "metadata": {},
     "output_type": "execute_result"
    }
   ],
   "source": [
    "dfJobs = pd.read_excel('50-Best-Jobs-2017.xlsx', sheetname='Final', header=0)\n",
    "dfJobs.head(4)"
   ]
  },
  {
   "cell_type": "markdown",
   "metadata": {
    "deletable": true,
    "editable": true
   },
   "source": [
    "#### Add new column as Primary Key and reset index to this new column - 'Occuptation ID'"
   ]
  },
  {
   "cell_type": "code",
   "execution_count": 18,
   "metadata": {
    "collapsed": false,
    "deletable": true,
    "editable": true
   },
   "outputs": [
    {
     "data": {
      "text/html": [
       "<div>\n",
       "<style>\n",
       "    .dataframe thead tr:only-child th {\n",
       "        text-align: right;\n",
       "    }\n",
       "\n",
       "    .dataframe thead th {\n",
       "        text-align: left;\n",
       "    }\n",
       "\n",
       "    .dataframe tbody tr th {\n",
       "        vertical-align: top;\n",
       "    }\n",
       "</style>\n",
       "<table border=\"1\" class=\"dataframe\">\n",
       "  <thead>\n",
       "    <tr style=\"text-align: right;\">\n",
       "      <th></th>\n",
       "      <th>Ranking</th>\n",
       "      <th>Occupation</th>\n",
       "      <th>Job Score</th>\n",
       "      <th>Job Satisfaction</th>\n",
       "      <th>Median Base Salary</th>\n",
       "      <th>Job Openings</th>\n",
       "    </tr>\n",
       "    <tr>\n",
       "      <th>Occupation ID</th>\n",
       "      <th></th>\n",
       "      <th></th>\n",
       "      <th></th>\n",
       "      <th></th>\n",
       "      <th></th>\n",
       "      <th></th>\n",
       "    </tr>\n",
       "  </thead>\n",
       "  <tbody>\n",
       "    <tr>\n",
       "      <th>OCC_01</th>\n",
       "      <td>1</td>\n",
       "      <td>Data Scientist</td>\n",
       "      <td>4.8</td>\n",
       "      <td>4.4</td>\n",
       "      <td>110000</td>\n",
       "      <td>4184</td>\n",
       "    </tr>\n",
       "    <tr>\n",
       "      <th>OCC_02</th>\n",
       "      <td>2</td>\n",
       "      <td>DevOps Engineer</td>\n",
       "      <td>4.7</td>\n",
       "      <td>4.2</td>\n",
       "      <td>110000</td>\n",
       "      <td>2725</td>\n",
       "    </tr>\n",
       "    <tr>\n",
       "      <th>OCC_03</th>\n",
       "      <td>3</td>\n",
       "      <td>Data Engineer</td>\n",
       "      <td>4.7</td>\n",
       "      <td>4.3</td>\n",
       "      <td>106000</td>\n",
       "      <td>2599</td>\n",
       "    </tr>\n",
       "    <tr>\n",
       "      <th>OCC_04</th>\n",
       "      <td>4</td>\n",
       "      <td>Tax Manager</td>\n",
       "      <td>4.7</td>\n",
       "      <td>4.0</td>\n",
       "      <td>110000</td>\n",
       "      <td>3317</td>\n",
       "    </tr>\n",
       "  </tbody>\n",
       "</table>\n",
       "</div>"
      ],
      "text/plain": [
       "               Ranking       Occupation  Job Score  Job Satisfaction  \\\n",
       "Occupation ID                                                          \n",
       "OCC_01               1   Data Scientist        4.8               4.4   \n",
       "OCC_02               2  DevOps Engineer        4.7               4.2   \n",
       "OCC_03               3    Data Engineer        4.7               4.3   \n",
       "OCC_04               4      Tax Manager        4.7               4.0   \n",
       "\n",
       "               Median Base Salary  Job Openings  \n",
       "Occupation ID                                    \n",
       "OCC_01                     110000          4184  \n",
       "OCC_02                     110000          2725  \n",
       "OCC_03                     106000          2599  \n",
       "OCC_04                     110000          3317  "
      ]
     },
     "execution_count": 18,
     "metadata": {},
     "output_type": "execute_result"
    }
   ],
   "source": [
    "dfJobs['Occupation ID'] = ''\n",
    "i = 0\n",
    "for row in dfJobs['Ranking']:\n",
    "    if (i < 9):\n",
    "        dfJobs['Occupation ID'][i] = ('OCC_0' + str(i+1))\n",
    "    else:\n",
    "        dfJobs['Occupation ID'][i] = ('OCC_' + str(i+1))\n",
    "    i = i + 1\n",
    "dfJobs = dfJobs.set_index('Occupation ID')\n",
    "dfJobs.head(4)"
   ]
  },
  {
   "cell_type": "markdown",
   "metadata": {
    "deletable": true,
    "editable": true
   },
   "source": [
    "### Dataset-2 and Dataset 3 are SCUs MSIS Specialization Tracks and associated Course listings\n",
    "Reference: https://www.scu.edu/business/ms-information-systems/curriculum/specialization-tracks/"
   ]
  },
  {
   "cell_type": "markdown",
   "metadata": {
    "deletable": true,
    "editable": true
   },
   "source": [
    "Raw Datasets 2 & 3 prior to scraping:\n",
    "\n",
    "![SCU-MSIS-Tacks_Raw.png](attachment:SCU-MSIS-Tacks_Raw.png)"
   ]
  },
  {
   "cell_type": "markdown",
   "metadata": {
    "deletable": true,
    "editable": true
   },
   "source": [
    "Dataset-1 Final result after Excel Scraping\n",
    "\n",
    "![SCU-MSIS-Tacks_Final.png](attachment:SCU-MSIS-Tacks_Final.png)"
   ]
  },
  {
   "cell_type": "markdown",
   "metadata": {
    "deletable": true,
    "editable": true
   },
   "source": [
    "#### Dataset-2 - Read in \"SCU MSIS Specialization Tracks\""
   ]
  },
  {
   "cell_type": "code",
   "execution_count": 19,
   "metadata": {
    "ExecuteTime": {
     "end_time": "2017-10-03T03:44:15.705468Z",
     "start_time": "2017-10-03T03:44:15.480153Z"
    },
    "collapsed": false,
    "deletable": true,
    "editable": true
   },
   "outputs": [
    {
     "data": {
      "text/html": [
       "<div>\n",
       "<style>\n",
       "    .dataframe thead tr:only-child th {\n",
       "        text-align: right;\n",
       "    }\n",
       "\n",
       "    .dataframe thead th {\n",
       "        text-align: left;\n",
       "    }\n",
       "\n",
       "    .dataframe tbody tr th {\n",
       "        vertical-align: top;\n",
       "    }\n",
       "</style>\n",
       "<table border=\"1\" class=\"dataframe\">\n",
       "  <thead>\n",
       "    <tr style=\"text-align: right;\">\n",
       "      <th></th>\n",
       "      <th>Track ID</th>\n",
       "      <th>MSIS Specialization Track</th>\n",
       "    </tr>\n",
       "  </thead>\n",
       "  <tbody>\n",
       "    <tr>\n",
       "      <th>0</th>\n",
       "      <td>100</td>\n",
       "      <td>Business Intelligence / Analytics Track</td>\n",
       "    </tr>\n",
       "    <tr>\n",
       "      <th>1</th>\n",
       "      <td>200</td>\n",
       "      <td>Enterprise Computing Track</td>\n",
       "    </tr>\n",
       "    <tr>\n",
       "      <th>2</th>\n",
       "      <td>300</td>\n",
       "      <td>Mobile Programming Track</td>\n",
       "    </tr>\n",
       "    <tr>\n",
       "      <th>3</th>\n",
       "      <td>400</td>\n",
       "      <td>Computer Security Track</td>\n",
       "    </tr>\n",
       "  </tbody>\n",
       "</table>\n",
       "</div>"
      ],
      "text/plain": [
       "   Track ID                MSIS Specialization Track\n",
       "0       100  Business Intelligence / Analytics Track\n",
       "1       200               Enterprise Computing Track\n",
       "2       300                 Mobile Programming Track\n",
       "3       400                  Computer Security Track"
      ]
     },
     "execution_count": 19,
     "metadata": {},
     "output_type": "execute_result"
    }
   ],
   "source": [
    "dfTracks = pd.read_excel('SCU-MSIS-Curriculum.xlsx', sheetname='Tracks', header=0)\n",
    "dfTracks.head(4)"
   ]
  },
  {
   "cell_type": "markdown",
   "metadata": {
    "deletable": true,
    "editable": true
   },
   "source": [
    "#### Dataset-3 - Read in \"SCU MSIS Courses\""
   ]
  },
  {
   "cell_type": "code",
   "execution_count": 20,
   "metadata": {
    "collapsed": false,
    "deletable": true,
    "editable": true
   },
   "outputs": [
    {
     "data": {
      "text/html": [
       "<div>\n",
       "<style>\n",
       "    .dataframe thead tr:only-child th {\n",
       "        text-align: right;\n",
       "    }\n",
       "\n",
       "    .dataframe thead th {\n",
       "        text-align: left;\n",
       "    }\n",
       "\n",
       "    .dataframe tbody tr th {\n",
       "        vertical-align: top;\n",
       "    }\n",
       "</style>\n",
       "<table border=\"1\" class=\"dataframe\">\n",
       "  <thead>\n",
       "    <tr style=\"text-align: right;\">\n",
       "      <th></th>\n",
       "      <th>Track ID</th>\n",
       "      <th>Course ID</th>\n",
       "      <th>Course Description</th>\n",
       "    </tr>\n",
       "  </thead>\n",
       "  <tbody>\n",
       "    <tr>\n",
       "      <th>0</th>\n",
       "      <td>100</td>\n",
       "      <td>MSIS 2621</td>\n",
       "      <td>Business Intelligence and Data Warehousing</td>\n",
       "    </tr>\n",
       "    <tr>\n",
       "      <th>1</th>\n",
       "      <td>100</td>\n",
       "      <td>MSIS 2627</td>\n",
       "      <td>Big Data Modeling and Analytics</td>\n",
       "    </tr>\n",
       "    <tr>\n",
       "      <th>2</th>\n",
       "      <td>100</td>\n",
       "      <td>MSIS 2629</td>\n",
       "      <td>Dashboards, Scorecards, and Visualization</td>\n",
       "    </tr>\n",
       "    <tr>\n",
       "      <th>3</th>\n",
       "      <td>100</td>\n",
       "      <td>MSIS 2630</td>\n",
       "      <td>Web Programming</td>\n",
       "    </tr>\n",
       "  </tbody>\n",
       "</table>\n",
       "</div>"
      ],
      "text/plain": [
       "   Track ID  Course ID                          Course Description\n",
       "0       100  MSIS 2621  Business Intelligence and Data Warehousing\n",
       "1       100  MSIS 2627             Big Data Modeling and Analytics\n",
       "2       100  MSIS 2629   Dashboards, Scorecards, and Visualization\n",
       "3       100  MSIS 2630                             Web Programming"
      ]
     },
     "execution_count": 20,
     "metadata": {},
     "output_type": "execute_result"
    }
   ],
   "source": [
    "dfCourses = pd.read_excel('SCU-MSIS-Curriculum.xlsx', sheetname='Courses', header=0)\n",
    "dfCourses.head(4)"
   ]
  },
  {
   "cell_type": "markdown",
   "metadata": {
    "deletable": true,
    "editable": true
   },
   "source": [
    "#### Assign School name to SCU courses as \"Santa Clara University\""
   ]
  },
  {
   "cell_type": "code",
   "execution_count": 21,
   "metadata": {
    "collapsed": false,
    "deletable": true,
    "editable": true
   },
   "outputs": [
    {
     "data": {
      "text/html": [
       "<div>\n",
       "<style>\n",
       "    .dataframe thead tr:only-child th {\n",
       "        text-align: right;\n",
       "    }\n",
       "\n",
       "    .dataframe thead th {\n",
       "        text-align: left;\n",
       "    }\n",
       "\n",
       "    .dataframe tbody tr th {\n",
       "        vertical-align: top;\n",
       "    }\n",
       "</style>\n",
       "<table border=\"1\" class=\"dataframe\">\n",
       "  <thead>\n",
       "    <tr style=\"text-align: right;\">\n",
       "      <th></th>\n",
       "      <th>Track ID</th>\n",
       "      <th>Course ID</th>\n",
       "      <th>Course Description</th>\n",
       "      <th>College_University</th>\n",
       "    </tr>\n",
       "  </thead>\n",
       "  <tbody>\n",
       "    <tr>\n",
       "      <th>0</th>\n",
       "      <td>100</td>\n",
       "      <td>MSIS 2621</td>\n",
       "      <td>Business Intelligence and Data Warehousing</td>\n",
       "      <td>Santa Clara University</td>\n",
       "    </tr>\n",
       "    <tr>\n",
       "      <th>1</th>\n",
       "      <td>100</td>\n",
       "      <td>MSIS 2627</td>\n",
       "      <td>Big Data Modeling and Analytics</td>\n",
       "      <td>Santa Clara University</td>\n",
       "    </tr>\n",
       "    <tr>\n",
       "      <th>2</th>\n",
       "      <td>100</td>\n",
       "      <td>MSIS 2629</td>\n",
       "      <td>Dashboards, Scorecards, and Visualization</td>\n",
       "      <td>Santa Clara University</td>\n",
       "    </tr>\n",
       "    <tr>\n",
       "      <th>3</th>\n",
       "      <td>100</td>\n",
       "      <td>MSIS 2630</td>\n",
       "      <td>Web Programming</td>\n",
       "      <td>Santa Clara University</td>\n",
       "    </tr>\n",
       "  </tbody>\n",
       "</table>\n",
       "</div>"
      ],
      "text/plain": [
       "   Track ID  Course ID                          Course Description  \\\n",
       "0       100  MSIS 2621  Business Intelligence and Data Warehousing   \n",
       "1       100  MSIS 2627             Big Data Modeling and Analytics   \n",
       "2       100  MSIS 2629   Dashboards, Scorecards, and Visualization   \n",
       "3       100  MSIS 2630                             Web Programming   \n",
       "\n",
       "       College_University  \n",
       "0  Santa Clara University  \n",
       "1  Santa Clara University  \n",
       "2  Santa Clara University  \n",
       "3  Santa Clara University  "
      ]
     },
     "execution_count": 21,
     "metadata": {},
     "output_type": "execute_result"
    }
   ],
   "source": [
    "dfCourses2 = dfCourses.copy()\n",
    "dfCourses2['College_University'] = dfCourses['Track ID'].map(lambda x: 'Santa Clara University' if x > 0 else \"\")\n",
    "dfCourses2.head(4)"
   ]
  },
  {
   "cell_type": "markdown",
   "metadata": {
    "deletable": true,
    "editable": true
   },
   "source": [
    "#### Assign an Occupation ID to eeach SCU MSIS Course based on external file containing Matrix Mapping"
   ]
  },
  {
   "cell_type": "code",
   "execution_count": 22,
   "metadata": {
    "collapsed": false,
    "deletable": true,
    "editable": true
   },
   "outputs": [
    {
     "data": {
      "text/html": [
       "<div>\n",
       "<style>\n",
       "    .dataframe thead tr:only-child th {\n",
       "        text-align: right;\n",
       "    }\n",
       "\n",
       "    .dataframe thead th {\n",
       "        text-align: left;\n",
       "    }\n",
       "\n",
       "    .dataframe tbody tr th {\n",
       "        vertical-align: top;\n",
       "    }\n",
       "</style>\n",
       "<table border=\"1\" class=\"dataframe\">\n",
       "  <thead>\n",
       "    <tr style=\"text-align: right;\">\n",
       "      <th></th>\n",
       "      <th>Track ID</th>\n",
       "      <th>Course ID</th>\n",
       "      <th>Occupation ID</th>\n",
       "    </tr>\n",
       "  </thead>\n",
       "  <tbody>\n",
       "    <tr>\n",
       "      <th>0</th>\n",
       "      <td>100</td>\n",
       "      <td>MSIS 2621</td>\n",
       "      <td>OCC_07</td>\n",
       "    </tr>\n",
       "    <tr>\n",
       "      <th>1</th>\n",
       "      <td>100</td>\n",
       "      <td>MSIS 2627</td>\n",
       "      <td>OCC_05</td>\n",
       "    </tr>\n",
       "    <tr>\n",
       "      <th>2</th>\n",
       "      <td>100</td>\n",
       "      <td>MSIS 2629</td>\n",
       "      <td>OCC_05</td>\n",
       "    </tr>\n",
       "    <tr>\n",
       "      <th>3</th>\n",
       "      <td>100</td>\n",
       "      <td>MSIS 2630</td>\n",
       "      <td>OCC_26</td>\n",
       "    </tr>\n",
       "  </tbody>\n",
       "</table>\n",
       "</div>"
      ],
      "text/plain": [
       "   Track ID  Course ID Occupation ID\n",
       "0       100  MSIS 2621        OCC_07\n",
       "1       100  MSIS 2627        OCC_05\n",
       "2       100  MSIS 2629        OCC_05\n",
       "3       100  MSIS 2630        OCC_26"
      ]
     },
     "execution_count": 22,
     "metadata": {},
     "output_type": "execute_result"
    }
   ],
   "source": [
    "dfOccMatrix = pd.read_excel('D3_COURSE-OCCUPATION.xlsx', sheetname='MAIN', header=0)\n",
    "dfOccMatrix.head(4)"
   ]
  },
  {
   "cell_type": "code",
   "execution_count": 23,
   "metadata": {
    "collapsed": false,
    "deletable": true,
    "editable": true
   },
   "outputs": [
    {
     "data": {
      "text/html": [
       "<div>\n",
       "<style>\n",
       "    .dataframe thead tr:only-child th {\n",
       "        text-align: right;\n",
       "    }\n",
       "\n",
       "    .dataframe thead th {\n",
       "        text-align: left;\n",
       "    }\n",
       "\n",
       "    .dataframe tbody tr th {\n",
       "        vertical-align: top;\n",
       "    }\n",
       "</style>\n",
       "<table border=\"1\" class=\"dataframe\">\n",
       "  <thead>\n",
       "    <tr style=\"text-align: right;\">\n",
       "      <th></th>\n",
       "      <th>Track ID</th>\n",
       "      <th>Course ID</th>\n",
       "      <th>Course Description</th>\n",
       "      <th>College_University</th>\n",
       "      <th>Occupation ID</th>\n",
       "    </tr>\n",
       "  </thead>\n",
       "  <tbody>\n",
       "    <tr>\n",
       "      <th>0</th>\n",
       "      <td>100</td>\n",
       "      <td>MSIS 2621</td>\n",
       "      <td>Business Intelligence and Data Warehousing</td>\n",
       "      <td>Santa Clara University</td>\n",
       "      <td>OCC_07</td>\n",
       "    </tr>\n",
       "    <tr>\n",
       "      <th>1</th>\n",
       "      <td>100</td>\n",
       "      <td>MSIS 2627</td>\n",
       "      <td>Big Data Modeling and Analytics</td>\n",
       "      <td>Santa Clara University</td>\n",
       "      <td>OCC_05</td>\n",
       "    </tr>\n",
       "    <tr>\n",
       "      <th>2</th>\n",
       "      <td>100</td>\n",
       "      <td>MSIS 2629</td>\n",
       "      <td>Dashboards, Scorecards, and Visualization</td>\n",
       "      <td>Santa Clara University</td>\n",
       "      <td>OCC_05</td>\n",
       "    </tr>\n",
       "    <tr>\n",
       "      <th>3</th>\n",
       "      <td>100</td>\n",
       "      <td>MSIS 2630</td>\n",
       "      <td>Web Programming</td>\n",
       "      <td>Santa Clara University</td>\n",
       "      <td>OCC_26</td>\n",
       "    </tr>\n",
       "  </tbody>\n",
       "</table>\n",
       "</div>"
      ],
      "text/plain": [
       "   Track ID  Course ID                          Course Description  \\\n",
       "0       100  MSIS 2621  Business Intelligence and Data Warehousing   \n",
       "1       100  MSIS 2627             Big Data Modeling and Analytics   \n",
       "2       100  MSIS 2629   Dashboards, Scorecards, and Visualization   \n",
       "3       100  MSIS 2630                             Web Programming   \n",
       "\n",
       "       College_University Occupation ID  \n",
       "0  Santa Clara University        OCC_07  \n",
       "1  Santa Clara University        OCC_05  \n",
       "2  Santa Clara University        OCC_05  \n",
       "3  Santa Clara University        OCC_26  "
      ]
     },
     "execution_count": 23,
     "metadata": {},
     "output_type": "execute_result"
    }
   ],
   "source": [
    "dfCourses2['Occupation ID'] = dfOccMatrix['Occupation ID']\n",
    "dfCourses2.head(4)"
   ]
  },
  {
   "cell_type": "markdown",
   "metadata": {
    "deletable": true,
    "editable": true
   },
   "source": [
    "### Dataset-4 - College Scorecard, Department of Education, ED.gov, 2015-2016 Dataset\n",
    "Reference: https://catalog.data.gov/dataset/college-scorecard"
   ]
  },
  {
   "cell_type": "markdown",
   "metadata": {
    "deletable": true,
    "editable": true
   },
   "source": [
    "#### Dataset-4 - Read in \"College Scorecard\" data from provided .csv file"
   ]
  },
  {
   "cell_type": "code",
   "execution_count": 24,
   "metadata": {
    "collapsed": false,
    "deletable": true,
    "editable": true
   },
   "outputs": [
    {
     "data": {
      "text/html": [
       "<div>\n",
       "<style>\n",
       "    .dataframe thead tr:only-child th {\n",
       "        text-align: right;\n",
       "    }\n",
       "\n",
       "    .dataframe thead th {\n",
       "        text-align: left;\n",
       "    }\n",
       "\n",
       "    .dataframe tbody tr th {\n",
       "        vertical-align: top;\n",
       "    }\n",
       "</style>\n",
       "<table border=\"1\" class=\"dataframe\">\n",
       "  <thead>\n",
       "    <tr style=\"text-align: right;\">\n",
       "      <th></th>\n",
       "      <th>UNITID</th>\n",
       "      <th>OPEID</th>\n",
       "      <th>OPEID6</th>\n",
       "      <th>INSTNM</th>\n",
       "      <th>CITY</th>\n",
       "      <th>STABBR</th>\n",
       "      <th>ZIP</th>\n",
       "      <th>ACCREDAGENCY</th>\n",
       "      <th>INSTURL</th>\n",
       "      <th>NPCURL</th>\n",
       "      <th>...</th>\n",
       "      <th>D150_L4_WHITENH</th>\n",
       "      <th>D150_L4_BLACKNH</th>\n",
       "      <th>D150_L4_API</th>\n",
       "      <th>D150_L4_AIANOLD</th>\n",
       "      <th>D150_L4_HISPOLD</th>\n",
       "      <th>D_PCTPELL_PCTFLOAN</th>\n",
       "      <th>OPENADMP</th>\n",
       "      <th>UGNONDS</th>\n",
       "      <th>GRADS</th>\n",
       "      <th>ACCREDCODE</th>\n",
       "    </tr>\n",
       "  </thead>\n",
       "  <tbody>\n",
       "    <tr>\n",
       "      <th>0</th>\n",
       "      <td>100654</td>\n",
       "      <td>100200</td>\n",
       "      <td>1002</td>\n",
       "      <td>Alabama A &amp; M University</td>\n",
       "      <td>Normal</td>\n",
       "      <td>AL</td>\n",
       "      <td>35762</td>\n",
       "      <td>Southern Association of Colleges and Schools C...</td>\n",
       "      <td>www.aamu.edu/</td>\n",
       "      <td>www2.aamu.edu/scripts/netpricecalc/npcalc.htm</td>\n",
       "      <td>...</td>\n",
       "      <td>NaN</td>\n",
       "      <td>NaN</td>\n",
       "      <td>NaN</td>\n",
       "      <td>NaN</td>\n",
       "      <td>NaN</td>\n",
       "      <td>4210.0</td>\n",
       "      <td>2.0</td>\n",
       "      <td>NaN</td>\n",
       "      <td>1123.0</td>\n",
       "      <td>SACSCC</td>\n",
       "    </tr>\n",
       "    <tr>\n",
       "      <th>1</th>\n",
       "      <td>100663</td>\n",
       "      <td>105200</td>\n",
       "      <td>1052</td>\n",
       "      <td>University of Alabama at Birmingham</td>\n",
       "      <td>Birmingham</td>\n",
       "      <td>AL</td>\n",
       "      <td>35294-0110</td>\n",
       "      <td>Southern Association of Colleges and Schools C...</td>\n",
       "      <td>www.uab.edu</td>\n",
       "      <td>uab.studentaidcalculator.com/survey.aspx</td>\n",
       "      <td>...</td>\n",
       "      <td>NaN</td>\n",
       "      <td>NaN</td>\n",
       "      <td>NaN</td>\n",
       "      <td>NaN</td>\n",
       "      <td>NaN</td>\n",
       "      <td>11679.0</td>\n",
       "      <td>2.0</td>\n",
       "      <td>242.0</td>\n",
       "      <td>6822.0</td>\n",
       "      <td>SACSCC</td>\n",
       "    </tr>\n",
       "    <tr>\n",
       "      <th>2</th>\n",
       "      <td>100690</td>\n",
       "      <td>2503400</td>\n",
       "      <td>25034</td>\n",
       "      <td>Amridge University</td>\n",
       "      <td>Montgomery</td>\n",
       "      <td>AL</td>\n",
       "      <td>36117-3553</td>\n",
       "      <td>Southern Association of Colleges and Schools C...</td>\n",
       "      <td>www.amridgeuniversity.edu</td>\n",
       "      <td>www2.amridgeuniversity.edu:9091/</td>\n",
       "      <td>...</td>\n",
       "      <td>NaN</td>\n",
       "      <td>NaN</td>\n",
       "      <td>NaN</td>\n",
       "      <td>NaN</td>\n",
       "      <td>NaN</td>\n",
       "      <td>279.0</td>\n",
       "      <td>1.0</td>\n",
       "      <td>NaN</td>\n",
       "      <td>319.0</td>\n",
       "      <td>SACSCC</td>\n",
       "    </tr>\n",
       "    <tr>\n",
       "      <th>3</th>\n",
       "      <td>100706</td>\n",
       "      <td>105500</td>\n",
       "      <td>1055</td>\n",
       "      <td>University of Alabama in Huntsville</td>\n",
       "      <td>Huntsville</td>\n",
       "      <td>AL</td>\n",
       "      <td>35899</td>\n",
       "      <td>Southern Association of Colleges and Schools C...</td>\n",
       "      <td>www.uah.edu</td>\n",
       "      <td>finaid.uah.edu/</td>\n",
       "      <td>...</td>\n",
       "      <td>NaN</td>\n",
       "      <td>NaN</td>\n",
       "      <td>NaN</td>\n",
       "      <td>NaN</td>\n",
       "      <td>NaN</td>\n",
       "      <td>5618.0</td>\n",
       "      <td>2.0</td>\n",
       "      <td>184.0</td>\n",
       "      <td>1853.0</td>\n",
       "      <td>SACSCC</td>\n",
       "    </tr>\n",
       "  </tbody>\n",
       "</table>\n",
       "<p>4 rows × 1777 columns</p>\n",
       "</div>"
      ],
      "text/plain": [
       "   UNITID    OPEID  OPEID6                               INSTNM        CITY  \\\n",
       "0  100654   100200    1002             Alabama A & M University      Normal   \n",
       "1  100663   105200    1052  University of Alabama at Birmingham  Birmingham   \n",
       "2  100690  2503400   25034                   Amridge University  Montgomery   \n",
       "3  100706   105500    1055  University of Alabama in Huntsville  Huntsville   \n",
       "\n",
       "  STABBR         ZIP                                       ACCREDAGENCY  \\\n",
       "0     AL       35762  Southern Association of Colleges and Schools C...   \n",
       "1     AL  35294-0110  Southern Association of Colleges and Schools C...   \n",
       "2     AL  36117-3553  Southern Association of Colleges and Schools C...   \n",
       "3     AL       35899  Southern Association of Colleges and Schools C...   \n",
       "\n",
       "                     INSTURL                                         NPCURL  \\\n",
       "0              www.aamu.edu/  www2.aamu.edu/scripts/netpricecalc/npcalc.htm   \n",
       "1                www.uab.edu       uab.studentaidcalculator.com/survey.aspx   \n",
       "2  www.amridgeuniversity.edu               www2.amridgeuniversity.edu:9091/   \n",
       "3                www.uah.edu                                finaid.uah.edu/   \n",
       "\n",
       "      ...      D150_L4_WHITENH  D150_L4_BLACKNH  D150_L4_API  D150_L4_AIANOLD  \\\n",
       "0     ...                  NaN              NaN          NaN              NaN   \n",
       "1     ...                  NaN              NaN          NaN              NaN   \n",
       "2     ...                  NaN              NaN          NaN              NaN   \n",
       "3     ...                  NaN              NaN          NaN              NaN   \n",
       "\n",
       "   D150_L4_HISPOLD  D_PCTPELL_PCTFLOAN  OPENADMP  UGNONDS   GRADS  ACCREDCODE  \n",
       "0              NaN              4210.0       2.0      NaN  1123.0      SACSCC  \n",
       "1              NaN             11679.0       2.0    242.0  6822.0      SACSCC  \n",
       "2              NaN               279.0       1.0      NaN   319.0      SACSCC  \n",
       "3              NaN              5618.0       2.0    184.0  1853.0      SACSCC  \n",
       "\n",
       "[4 rows x 1777 columns]"
      ]
     },
     "execution_count": 24,
     "metadata": {},
     "output_type": "execute_result"
    }
   ],
   "source": [
    "dfScorecard = pd.read_csv('MERGED2015_16_PP.csv', header=0)\n",
    "dfScorecard.head(4)"
   ]
  },
  {
   "cell_type": "markdown",
   "metadata": {
    "deletable": true,
    "editable": true
   },
   "source": [
    "Filter Scorecard Dataset to only include relevant columns needed for further analysis."
   ]
  },
  {
   "cell_type": "code",
   "execution_count": 25,
   "metadata": {
    "collapsed": false,
    "deletable": true,
    "editable": true
   },
   "outputs": [
    {
     "data": {
      "text/html": [
       "<div>\n",
       "<style>\n",
       "    .dataframe thead tr:only-child th {\n",
       "        text-align: right;\n",
       "    }\n",
       "\n",
       "    .dataframe thead th {\n",
       "        text-align: left;\n",
       "    }\n",
       "\n",
       "    .dataframe tbody tr th {\n",
       "        vertical-align: top;\n",
       "    }\n",
       "</style>\n",
       "<table border=\"1\" class=\"dataframe\">\n",
       "  <thead>\n",
       "    <tr style=\"text-align: right;\">\n",
       "      <th></th>\n",
       "      <th>VARIABLE NAME</th>\n",
       "    </tr>\n",
       "  </thead>\n",
       "  <tbody>\n",
       "    <tr>\n",
       "      <th>0</th>\n",
       "      <td>UNITID</td>\n",
       "    </tr>\n",
       "    <tr>\n",
       "      <th>1</th>\n",
       "      <td>INSTNM</td>\n",
       "    </tr>\n",
       "    <tr>\n",
       "      <th>2</th>\n",
       "      <td>CITY</td>\n",
       "    </tr>\n",
       "    <tr>\n",
       "      <th>3</th>\n",
       "      <td>STABBR</td>\n",
       "    </tr>\n",
       "  </tbody>\n",
       "</table>\n",
       "</div>"
      ],
      "text/plain": [
       "  VARIABLE NAME\n",
       "0        UNITID\n",
       "1        INSTNM\n",
       "2          CITY\n",
       "3        STABBR"
      ]
     },
     "execution_count": 25,
     "metadata": {},
     "output_type": "execute_result"
    }
   ],
   "source": [
    "ColTable = pd.read_excel('CollegeScorecard_RelevantColumns.xlsx', sheetname='Columns', header=0)\n",
    "ColTable.head(4)"
   ]
  },
  {
   "cell_type": "code",
   "execution_count": 26,
   "metadata": {
    "collapsed": false,
    "deletable": true,
    "editable": true
   },
   "outputs": [
    {
     "data": {
      "text/plain": [
       "[u'UNITID', u'INSTNM', u'CITY', u'STABBR']"
      ]
     },
     "execution_count": 26,
     "metadata": {},
     "output_type": "execute_result"
    }
   ],
   "source": [
    "NeededColumns = ColTable['VARIABLE NAME'].tolist()\n",
    "NeededColumns[:4]"
   ]
  },
  {
   "cell_type": "code",
   "execution_count": 27,
   "metadata": {
    "collapsed": false,
    "deletable": true,
    "editable": true
   },
   "outputs": [
    {
     "data": {
      "text/html": [
       "<div>\n",
       "<style>\n",
       "    .dataframe thead tr:only-child th {\n",
       "        text-align: right;\n",
       "    }\n",
       "\n",
       "    .dataframe thead th {\n",
       "        text-align: left;\n",
       "    }\n",
       "\n",
       "    .dataframe tbody tr th {\n",
       "        vertical-align: top;\n",
       "    }\n",
       "</style>\n",
       "<table border=\"1\" class=\"dataframe\">\n",
       "  <thead>\n",
       "    <tr style=\"text-align: right;\">\n",
       "      <th></th>\n",
       "      <th>UNITID</th>\n",
       "      <th>INSTNM</th>\n",
       "      <th>CITY</th>\n",
       "      <th>STABBR</th>\n",
       "      <th>ZIP</th>\n",
       "      <th>ACCREDAGENCY</th>\n",
       "      <th>INSTURL</th>\n",
       "      <th>SCH_DEG</th>\n",
       "      <th>MAIN</th>\n",
       "      <th>NUMBRANCH</th>\n",
       "      <th>...</th>\n",
       "      <th>C150_4</th>\n",
       "      <th>RET_FT4</th>\n",
       "      <th>PAR_ED_PCT_1STGEN</th>\n",
       "      <th>FEMALE</th>\n",
       "      <th>ALIAS</th>\n",
       "      <th>C100_4</th>\n",
       "      <th>ICLEVEL</th>\n",
       "      <th>UGDS_MEN</th>\n",
       "      <th>UGDS_WOMEN</th>\n",
       "      <th>GRADS</th>\n",
       "    </tr>\n",
       "  </thead>\n",
       "  <tbody>\n",
       "    <tr>\n",
       "      <th>0</th>\n",
       "      <td>100654</td>\n",
       "      <td>Alabama A &amp; M University</td>\n",
       "      <td>Normal</td>\n",
       "      <td>AL</td>\n",
       "      <td>35762</td>\n",
       "      <td>Southern Association of Colleges and Schools C...</td>\n",
       "      <td>www.aamu.edu/</td>\n",
       "      <td>NaN</td>\n",
       "      <td>1</td>\n",
       "      <td>1</td>\n",
       "      <td>...</td>\n",
       "      <td>0.3081</td>\n",
       "      <td>0.5779</td>\n",
       "      <td>0.3887357227</td>\n",
       "      <td>0.5472427116</td>\n",
       "      <td>AAMU</td>\n",
       "      <td>0.1104</td>\n",
       "      <td>1</td>\n",
       "      <td>0.4617</td>\n",
       "      <td>0.5383</td>\n",
       "      <td>1123.0</td>\n",
       "    </tr>\n",
       "    <tr>\n",
       "      <th>1</th>\n",
       "      <td>100663</td>\n",
       "      <td>University of Alabama at Birmingham</td>\n",
       "      <td>Birmingham</td>\n",
       "      <td>AL</td>\n",
       "      <td>35294-0110</td>\n",
       "      <td>Southern Association of Colleges and Schools C...</td>\n",
       "      <td>www.uab.edu</td>\n",
       "      <td>NaN</td>\n",
       "      <td>1</td>\n",
       "      <td>1</td>\n",
       "      <td>...</td>\n",
       "      <td>0.5462</td>\n",
       "      <td>0.7864</td>\n",
       "      <td>0.3564593301</td>\n",
       "      <td>0.6369683532</td>\n",
       "      <td>NaN</td>\n",
       "      <td>0.3173</td>\n",
       "      <td>1</td>\n",
       "      <td>0.4116</td>\n",
       "      <td>0.5884</td>\n",
       "      <td>6822.0</td>\n",
       "    </tr>\n",
       "    <tr>\n",
       "      <th>2</th>\n",
       "      <td>100690</td>\n",
       "      <td>Amridge University</td>\n",
       "      <td>Montgomery</td>\n",
       "      <td>AL</td>\n",
       "      <td>36117-3553</td>\n",
       "      <td>Southern Association of Colleges and Schools C...</td>\n",
       "      <td>www.amridgeuniversity.edu</td>\n",
       "      <td>NaN</td>\n",
       "      <td>1</td>\n",
       "      <td>1</td>\n",
       "      <td>...</td>\n",
       "      <td>0.4000</td>\n",
       "      <td>0.6667</td>\n",
       "      <td>0.5285714286</td>\n",
       "      <td>0.6043956044</td>\n",
       "      <td>Southern Christian University |Regions University</td>\n",
       "      <td>0.0000</td>\n",
       "      <td>1</td>\n",
       "      <td>0.4286</td>\n",
       "      <td>0.5714</td>\n",
       "      <td>319.0</td>\n",
       "    </tr>\n",
       "    <tr>\n",
       "      <th>3</th>\n",
       "      <td>100706</td>\n",
       "      <td>University of Alabama in Huntsville</td>\n",
       "      <td>Huntsville</td>\n",
       "      <td>AL</td>\n",
       "      <td>35899</td>\n",
       "      <td>Southern Association of Colleges and Schools C...</td>\n",
       "      <td>www.uah.edu</td>\n",
       "      <td>NaN</td>\n",
       "      <td>1</td>\n",
       "      <td>1</td>\n",
       "      <td>...</td>\n",
       "      <td>0.4935</td>\n",
       "      <td>0.8025</td>\n",
       "      <td>0.3137931034</td>\n",
       "      <td>0.4779208832</td>\n",
       "      <td>UAH |University of Alabama Huntsville</td>\n",
       "      <td>0.1848</td>\n",
       "      <td>1</td>\n",
       "      <td>0.5740</td>\n",
       "      <td>0.4260</td>\n",
       "      <td>1853.0</td>\n",
       "    </tr>\n",
       "  </tbody>\n",
       "</table>\n",
       "<p>4 rows × 51 columns</p>\n",
       "</div>"
      ],
      "text/plain": [
       "   UNITID                               INSTNM        CITY STABBR         ZIP  \\\n",
       "0  100654             Alabama A & M University      Normal     AL       35762   \n",
       "1  100663  University of Alabama at Birmingham  Birmingham     AL  35294-0110   \n",
       "2  100690                   Amridge University  Montgomery     AL  36117-3553   \n",
       "3  100706  University of Alabama in Huntsville  Huntsville     AL       35899   \n",
       "\n",
       "                                        ACCREDAGENCY  \\\n",
       "0  Southern Association of Colleges and Schools C...   \n",
       "1  Southern Association of Colleges and Schools C...   \n",
       "2  Southern Association of Colleges and Schools C...   \n",
       "3  Southern Association of Colleges and Schools C...   \n",
       "\n",
       "                     INSTURL  SCH_DEG  MAIN  NUMBRANCH   ...    C150_4  \\\n",
       "0              www.aamu.edu/      NaN     1          1   ...    0.3081   \n",
       "1                www.uab.edu      NaN     1          1   ...    0.5462   \n",
       "2  www.amridgeuniversity.edu      NaN     1          1   ...    0.4000   \n",
       "3                www.uah.edu      NaN     1          1   ...    0.4935   \n",
       "\n",
       "   RET_FT4  PAR_ED_PCT_1STGEN        FEMALE  \\\n",
       "0   0.5779       0.3887357227  0.5472427116   \n",
       "1   0.7864       0.3564593301  0.6369683532   \n",
       "2   0.6667       0.5285714286  0.6043956044   \n",
       "3   0.8025       0.3137931034  0.4779208832   \n",
       "\n",
       "                                               ALIAS  C100_4  ICLEVEL  \\\n",
       "0                                               AAMU  0.1104        1   \n",
       "1                                                NaN  0.3173        1   \n",
       "2  Southern Christian University |Regions University  0.0000        1   \n",
       "3              UAH |University of Alabama Huntsville  0.1848        1   \n",
       "\n",
       "   UGDS_MEN  UGDS_WOMEN   GRADS  \n",
       "0    0.4617      0.5383  1123.0  \n",
       "1    0.4116      0.5884  6822.0  \n",
       "2    0.4286      0.5714   319.0  \n",
       "3    0.5740      0.4260  1853.0  \n",
       "\n",
       "[4 rows x 51 columns]"
      ]
     },
     "execution_count": 27,
     "metadata": {},
     "output_type": "execute_result"
    }
   ],
   "source": [
    "dfScorecard2 = dfScorecard[NeededColumns]\n",
    "dfScorecard2.head(4)"
   ]
  },
  {
   "cell_type": "markdown",
   "metadata": {
    "deletable": true,
    "editable": true
   },
   "source": [
    "Filter Scorecard Daset to only include \"Masters Colleges & Universities\" (CCBASIC = 18), \"Main Campus\" colleges (MAIN = 1), and Bachelor's degree in Computer And Information Sciences And Support Services (CIP11BACHL > 0) in order to compare only US Universities offering a related Undergraduate Program, and the Region is Far West (AK, CA, HI, NV, OR, WA) - (REGION = 8)."
   ]
  },
  {
   "cell_type": "code",
   "execution_count": 28,
   "metadata": {
    "collapsed": false,
    "deletable": true,
    "editable": true
   },
   "outputs": [
    {
     "data": {
      "text/html": [
       "<div>\n",
       "<style>\n",
       "    .dataframe thead tr:only-child th {\n",
       "        text-align: right;\n",
       "    }\n",
       "\n",
       "    .dataframe thead th {\n",
       "        text-align: left;\n",
       "    }\n",
       "\n",
       "    .dataframe tbody tr th {\n",
       "        vertical-align: top;\n",
       "    }\n",
       "</style>\n",
       "<table border=\"1\" class=\"dataframe\">\n",
       "  <thead>\n",
       "    <tr style=\"text-align: right;\">\n",
       "      <th></th>\n",
       "      <th>UNITID</th>\n",
       "      <th>INSTNM</th>\n",
       "      <th>CITY</th>\n",
       "      <th>STABBR</th>\n",
       "      <th>ZIP</th>\n",
       "      <th>ACCREDAGENCY</th>\n",
       "      <th>INSTURL</th>\n",
       "      <th>SCH_DEG</th>\n",
       "      <th>MAIN</th>\n",
       "      <th>NUMBRANCH</th>\n",
       "      <th>...</th>\n",
       "      <th>C150_4</th>\n",
       "      <th>RET_FT4</th>\n",
       "      <th>PAR_ED_PCT_1STGEN</th>\n",
       "      <th>FEMALE</th>\n",
       "      <th>ALIAS</th>\n",
       "      <th>C100_4</th>\n",
       "      <th>ICLEVEL</th>\n",
       "      <th>UGDS_MEN</th>\n",
       "      <th>UGDS_WOMEN</th>\n",
       "      <th>GRADS</th>\n",
       "    </tr>\n",
       "  </thead>\n",
       "  <tbody>\n",
       "    <tr>\n",
       "      <th>60</th>\n",
       "      <td>102553</td>\n",
       "      <td>University of Alaska Anchorage</td>\n",
       "      <td>Anchorage</td>\n",
       "      <td>AK</td>\n",
       "      <td>99508</td>\n",
       "      <td>Northwest Commission on Colleges and Universities</td>\n",
       "      <td>www.uaa.alaska.edu</td>\n",
       "      <td>NaN</td>\n",
       "      <td>1</td>\n",
       "      <td>1</td>\n",
       "      <td>...</td>\n",
       "      <td>0.2408</td>\n",
       "      <td>0.7084</td>\n",
       "      <td>0.399125205</td>\n",
       "      <td>0.5957103321</td>\n",
       "      <td>UAA</td>\n",
       "      <td>0.0883</td>\n",
       "      <td>1</td>\n",
       "      <td>0.4280</td>\n",
       "      <td>0.5720</td>\n",
       "      <td>845.0</td>\n",
       "    </tr>\n",
       "    <tr>\n",
       "      <th>220</th>\n",
       "      <td>110361</td>\n",
       "      <td>California Baptist University</td>\n",
       "      <td>Riverside</td>\n",
       "      <td>CA</td>\n",
       "      <td>92504-3297</td>\n",
       "      <td>Western Association of Schools and Colleges Se...</td>\n",
       "      <td>www.calbaptist.edu</td>\n",
       "      <td>NaN</td>\n",
       "      <td>1</td>\n",
       "      <td>1</td>\n",
       "      <td>...</td>\n",
       "      <td>0.6046</td>\n",
       "      <td>0.7606</td>\n",
       "      <td>0.4054762598</td>\n",
       "      <td>0.6491318995</td>\n",
       "      <td>CBU</td>\n",
       "      <td>0.4376</td>\n",
       "      <td>1</td>\n",
       "      <td>0.3720</td>\n",
       "      <td>0.6280</td>\n",
       "      <td>1911.0</td>\n",
       "    </tr>\n",
       "    <tr>\n",
       "      <th>224</th>\n",
       "      <td>110413</td>\n",
       "      <td>California Lutheran University</td>\n",
       "      <td>Thousand Oaks</td>\n",
       "      <td>CA</td>\n",
       "      <td>91360-2787</td>\n",
       "      <td>Western Association of Schools and Colleges Se...</td>\n",
       "      <td>www.callutheran.edu/</td>\n",
       "      <td>NaN</td>\n",
       "      <td>1</td>\n",
       "      <td>1</td>\n",
       "      <td>...</td>\n",
       "      <td>0.6623</td>\n",
       "      <td>0.8417</td>\n",
       "      <td>0.3231046931</td>\n",
       "      <td>0.6237541528</td>\n",
       "      <td>NaN</td>\n",
       "      <td>0.6017</td>\n",
       "      <td>1</td>\n",
       "      <td>0.4254</td>\n",
       "      <td>0.5746</td>\n",
       "      <td>1316.0</td>\n",
       "    </tr>\n",
       "    <tr>\n",
       "      <th>225</th>\n",
       "      <td>110422</td>\n",
       "      <td>California Polytechnic State University-San Lu...</td>\n",
       "      <td>San Luis Obispo</td>\n",
       "      <td>CA</td>\n",
       "      <td>93407</td>\n",
       "      <td>Western Association of Schools and Colleges Se...</td>\n",
       "      <td>calpoly.edu</td>\n",
       "      <td>NaN</td>\n",
       "      <td>1</td>\n",
       "      <td>1</td>\n",
       "      <td>...</td>\n",
       "      <td>0.7578</td>\n",
       "      <td>0.9320</td>\n",
       "      <td>0.2516451101</td>\n",
       "      <td>0.4942528736</td>\n",
       "      <td>Cal Poly</td>\n",
       "      <td>0.4016</td>\n",
       "      <td>1</td>\n",
       "      <td>0.5339</td>\n",
       "      <td>0.4661</td>\n",
       "      <td>895.0</td>\n",
       "    </tr>\n",
       "  </tbody>\n",
       "</table>\n",
       "<p>4 rows × 51 columns</p>\n",
       "</div>"
      ],
      "text/plain": [
       "     UNITID                                             INSTNM  \\\n",
       "60   102553                     University of Alaska Anchorage   \n",
       "220  110361                      California Baptist University   \n",
       "224  110413                     California Lutheran University   \n",
       "225  110422  California Polytechnic State University-San Lu...   \n",
       "\n",
       "                CITY STABBR         ZIP  \\\n",
       "60         Anchorage     AK       99508   \n",
       "220        Riverside     CA  92504-3297   \n",
       "224    Thousand Oaks     CA  91360-2787   \n",
       "225  San Luis Obispo     CA       93407   \n",
       "\n",
       "                                          ACCREDAGENCY               INSTURL  \\\n",
       "60   Northwest Commission on Colleges and Universities    www.uaa.alaska.edu   \n",
       "220  Western Association of Schools and Colleges Se...    www.calbaptist.edu   \n",
       "224  Western Association of Schools and Colleges Se...  www.callutheran.edu/   \n",
       "225  Western Association of Schools and Colleges Se...           calpoly.edu   \n",
       "\n",
       "     SCH_DEG  MAIN  NUMBRANCH   ...    C150_4  RET_FT4  PAR_ED_PCT_1STGEN  \\\n",
       "60       NaN     1          1   ...    0.2408   0.7084        0.399125205   \n",
       "220      NaN     1          1   ...    0.6046   0.7606       0.4054762598   \n",
       "224      NaN     1          1   ...    0.6623   0.8417       0.3231046931   \n",
       "225      NaN     1          1   ...    0.7578   0.9320       0.2516451101   \n",
       "\n",
       "           FEMALE     ALIAS  C100_4  ICLEVEL  UGDS_MEN  UGDS_WOMEN   GRADS  \n",
       "60   0.5957103321       UAA  0.0883        1    0.4280      0.5720   845.0  \n",
       "220  0.6491318995       CBU  0.4376        1    0.3720      0.6280  1911.0  \n",
       "224  0.6237541528       NaN  0.6017        1    0.4254      0.5746  1316.0  \n",
       "225  0.4942528736  Cal Poly  0.4016        1    0.5339      0.4661   895.0  \n",
       "\n",
       "[4 rows x 51 columns]"
      ]
     },
     "execution_count": 28,
     "metadata": {},
     "output_type": "execute_result"
    }
   ],
   "source": [
    "dfScorecard2 = dfScorecard2[((dfScorecard2['CCBASIC'] == 18) & (dfScorecard2['MAIN'] == 1) &\n",
    "                             (dfScorecard2['REGION'] == 8) & (dfScorecard2['PCIP11'] > 0.0))]\n",
    "dfScorecard2.head(4)"
   ]
  },
  {
   "cell_type": "markdown",
   "metadata": {
    "deletable": true,
    "editable": true
   },
   "source": [
    "### Dataset-5 - Money Magazine's \"Best Colleges for your Money 2017\"\n",
    "Reference: https://www.scu.edu/business/news/top-stories/leavey-school-ranked-10-in-the-country-for-undergraduate-business-by-money-magazine.html"
   ]
  },
  {
   "cell_type": "markdown",
   "metadata": {
    "deletable": true,
    "editable": true
   },
   "source": [
    "Raw Dataset-5 as HTML prior to scraping:\n",
    "\n",
    "![BestColleges.png](attachment:BestColleges.png)"
   ]
  },
  {
   "cell_type": "markdown",
   "metadata": {
    "deletable": true,
    "editable": true
   },
   "source": [
    "Dataset-5 after Excel scraping:\n",
    "\n",
    "![BestCollegesExcel.png](attachment:BestCollegesExcel.png)"
   ]
  },
  {
   "cell_type": "markdown",
   "metadata": {
    "deletable": true,
    "editable": true
   },
   "source": [
    "#### Dataset-5 - Read in Money Magazine's 50 Best Colleges for 2017\" data from Excel file"
   ]
  },
  {
   "cell_type": "code",
   "execution_count": 29,
   "metadata": {
    "collapsed": false,
    "deletable": true,
    "editable": true
   },
   "outputs": [
    {
     "data": {
      "text/html": [
       "<div>\n",
       "<style>\n",
       "    .dataframe thead tr:only-child th {\n",
       "        text-align: right;\n",
       "    }\n",
       "\n",
       "    .dataframe thead th {\n",
       "        text-align: left;\n",
       "    }\n",
       "\n",
       "    .dataframe tbody tr th {\n",
       "        vertical-align: top;\n",
       "    }\n",
       "</style>\n",
       "<table border=\"1\" class=\"dataframe\">\n",
       "  <thead>\n",
       "    <tr style=\"text-align: right;\">\n",
       "      <th></th>\n",
       "      <th>Order</th>\n",
       "      <th>College Name</th>\n",
       "      <th>City and State</th>\n",
       "      <th>Money Ranking</th>\n",
       "      <th>Median SAT/ACT score</th>\n",
       "      <th>Est. price 2017-18 without aid</th>\n",
       "      <th>Est. price 2017-18 with avg. grant</th>\n",
       "      <th>% who get need-based grants</th>\n",
       "      <th>% who get merit grants</th>\n",
       "      <th>Business major early career earnings</th>\n",
       "    </tr>\n",
       "  </thead>\n",
       "  <tbody>\n",
       "    <tr>\n",
       "      <th>0</th>\n",
       "      <td>1.0</td>\n",
       "      <td>University of California-Berkeley</td>\n",
       "      <td>Berkeley, CA</td>\n",
       "      <td>4.0</td>\n",
       "      <td>1370/32</td>\n",
       "      <td>37220.0</td>\n",
       "      <td>17929.0</td>\n",
       "      <td>0.48</td>\n",
       "      <td>0.01</td>\n",
       "      <td>72100.0</td>\n",
       "    </tr>\n",
       "    <tr>\n",
       "      <th>1</th>\n",
       "      <td>2.0</td>\n",
       "      <td>Washington and Lee University</td>\n",
       "      <td>Lexington, VA</td>\n",
       "      <td>16.0</td>\n",
       "      <td>1390/32</td>\n",
       "      <td>65737.0</td>\n",
       "      <td>23089.0</td>\n",
       "      <td>0.41</td>\n",
       "      <td>0.10</td>\n",
       "      <td>60000.0</td>\n",
       "    </tr>\n",
       "    <tr>\n",
       "      <th>2</th>\n",
       "      <td>3.0</td>\n",
       "      <td>University of Pennsylvania</td>\n",
       "      <td>Philadelphia, PA</td>\n",
       "      <td>27.0</td>\n",
       "      <td>1460/33</td>\n",
       "      <td>71074.0</td>\n",
       "      <td>25838.0</td>\n",
       "      <td>0.47</td>\n",
       "      <td>NaN</td>\n",
       "      <td>69200.0</td>\n",
       "    </tr>\n",
       "    <tr>\n",
       "      <th>3</th>\n",
       "      <td>4.0</td>\n",
       "      <td>Brown University</td>\n",
       "      <td>Providence, RI</td>\n",
       "      <td>34.0</td>\n",
       "      <td>1440/32</td>\n",
       "      <td>69809.0</td>\n",
       "      <td>24794.0</td>\n",
       "      <td>0.44</td>\n",
       "      <td>NaN</td>\n",
       "      <td>64100.0</td>\n",
       "    </tr>\n",
       "  </tbody>\n",
       "</table>\n",
       "</div>"
      ],
      "text/plain": [
       "   Order                       College Name    City and State  Money Ranking  \\\n",
       "0    1.0  University of California-Berkeley      Berkeley, CA            4.0   \n",
       "1    2.0      Washington and Lee University     Lexington, VA           16.0   \n",
       "2    3.0         University of Pennsylvania  Philadelphia, PA           27.0   \n",
       "3    4.0                   Brown University    Providence, RI           34.0   \n",
       "\n",
       "  Median SAT/ACT score  Est. price 2017-18 without aid  \\\n",
       "0              1370/32                         37220.0   \n",
       "1              1390/32                         65737.0   \n",
       "2              1460/33                         71074.0   \n",
       "3              1440/32                         69809.0   \n",
       "\n",
       "   Est. price 2017-18 with avg. grant  % who get need-based grants  \\\n",
       "0                             17929.0                         0.48   \n",
       "1                             23089.0                         0.41   \n",
       "2                             25838.0                         0.47   \n",
       "3                             24794.0                         0.44   \n",
       "\n",
       "   % who get merit grants  Business major early career earnings  \n",
       "0                    0.01                               72100.0  \n",
       "1                    0.10                               60000.0  \n",
       "2                     NaN                               69200.0  \n",
       "3                     NaN                               64100.0  "
      ]
     },
     "execution_count": 29,
     "metadata": {},
     "output_type": "execute_result"
    }
   ],
   "source": [
    "dfBestColleges = pd.read_excel('BestColleges_2017.xlsx', header=0)\n",
    "dfBestColleges.head(4)"
   ]
  },
  {
   "cell_type": "markdown",
   "metadata": {
    "deletable": true,
    "editable": true
   },
   "source": [
    "## The 5 Datasets are ready for Tableau\n",
    "1. D1_50BestJobs2017.csv\n",
    "2. D2_SCUMSISTracks.csv\n",
    "3. D3_SCUMSISCourses.csv\n",
    "4. D4_CollegeScorecard201516.csv\n",
    "5. D5_50BestColleges2017.csv"
   ]
  },
  {
   "cell_type": "markdown",
   "metadata": {
    "deletable": true,
    "editable": true
   },
   "source": [
    "### Write Dataframes to .csv files"
   ]
  },
  {
   "cell_type": "code",
   "execution_count": 30,
   "metadata": {
    "collapsed": false,
    "deletable": true,
    "editable": true
   },
   "outputs": [],
   "source": [
    "dfJobs.to_csv('D1_50BestJobs2017.csv', encoding='utf-8')\n",
    "dfTracks.to_csv('D2_SCUMSISTracks.csv', encoding='utf-8')\n",
    "dfCourses2.to_csv('D3_SCUMSISCourses.csv', encoding='utf-8')\n",
    "dfScorecard2.to_csv('D4_CollegeScorecard201516.csv', encoding='utf-8')\n",
    "dfBestColleges.to_csv('D5_50BestColleges2017.csv', encoding='utf-8')"
   ]
  },
  {
   "cell_type": "code",
   "execution_count": null,
   "metadata": {
    "collapsed": true,
    "deletable": true,
    "editable": true
   },
   "outputs": [],
   "source": []
  }
 ],
 "metadata": {
  "kernelspec": {
   "display_name": "Python 2",
   "language": "python",
   "name": "python2"
  },
  "language_info": {
   "codemirror_mode": {
    "name": "ipython",
    "version": 2
   },
   "file_extension": ".py",
   "mimetype": "text/x-python",
   "name": "python",
   "nbconvert_exporter": "python",
   "pygments_lexer": "ipython2",
   "version": "2.7.13"
  },
  "toc": {
   "nav_menu": {},
   "number_sections": true,
   "sideBar": true,
   "skip_h1_title": false,
   "toc_cell": false,
   "toc_position": {},
   "toc_section_display": "block",
   "toc_window_display": false
  },
  "varInspector": {
   "cols": {
    "lenName": 16,
    "lenType": 16,
    "lenVar": 40
   },
   "kernels_config": {
    "python": {
     "delete_cmd_postfix": "",
     "delete_cmd_prefix": "del ",
     "library": "var_list.py",
     "varRefreshCmd": "print(var_dic_list())"
    },
    "r": {
     "delete_cmd_postfix": ") ",
     "delete_cmd_prefix": "rm(",
     "library": "var_list.r",
     "varRefreshCmd": "cat(var_dic_list()) "
    }
   },
   "types_to_exclude": [
    "module",
    "function",
    "builtin_function_or_method",
    "instance",
    "_Feature"
   ],
   "window_display": false
  }
 },
 "nbformat": 4,
 "nbformat_minor": 2
}
